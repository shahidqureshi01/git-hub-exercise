{
 "cells": [
  {
   "cell_type": "markdown",
   "metadata": {},
   "source": [
    "### First I'll define a list that we can always use"
   ]
  },
  {
   "cell_type": "code",
   "execution_count": 9,
   "metadata": {},
   "outputs": [],
   "source": [
    "list_ = [0,1,2,3,4,5,6,7,8,9]\n"
   ]
  },
  {
   "cell_type": "markdown",
   "metadata": {},
   "source": [
    "Return the size of a list, or how many elements the list has"
   ]
  },
  {
   "cell_type": "code",
   "execution_count": 10,
   "metadata": {},
   "outputs": [
    {
     "data": {
      "text/plain": [
       "10"
      ]
     },
     "execution_count": 10,
     "metadata": {},
     "output_type": "execute_result"
    }
   ],
   "source": [
    "def size_of_a_list(list_):\n",
    "    s = len(list_)\n",
    "    #print(l)\n",
    "    return (s)\n",
    "size_of_a_list(list_)"
   ]
  },
  {
   "cell_type": "markdown",
   "metadata": {},
   "source": [
    "A simple loop that will return the index of the list that is currently on"
   ]
  },
  {
   "cell_type": "code",
   "execution_count": 11,
   "metadata": {},
   "outputs": [
    {
     "name": "stdout",
     "output_type": "stream",
     "text": [
      "0\n",
      "1\n",
      "2\n",
      "3\n",
      "4\n",
      "5\n",
      "6\n",
      "7\n",
      "8\n",
      "9\n"
     ]
    }
   ],
   "source": [
    "def simple_loop(l):\n",
    "    s = size_of_a_list(l)\n",
    "    for i in range(s):\n",
    "        print(i)\n",
    "simple_loop(list_)"
   ]
  },
  {
   "cell_type": "markdown",
   "metadata": {},
   "source": [
    "Nested loops and a simple showcase. In order for the upper loop to go to the next step the lower loop has to finish all it's steps."
   ]
  },
  {
   "cell_type": "code",
   "execution_count": 12,
   "metadata": {},
   "outputs": [
    {
     "ename": "SyntaxError",
     "evalue": "invalid syntax (<ipython-input-12-06f50aa10ae8>, line 2)",
     "output_type": "error",
     "traceback": [
      "\u001b[1;36m  File \u001b[1;32m\"<ipython-input-12-06f50aa10ae8>\"\u001b[1;36m, line \u001b[1;32m2\u001b[0m\n\u001b[1;33m    s = size_of_a_list(l)nested_loop(list_)\u001b[0m\n\u001b[1;37m                                   ^\u001b[0m\n\u001b[1;31mSyntaxError\u001b[0m\u001b[1;31m:\u001b[0m invalid syntax\n"
     ]
    }
   ],
   "source": [
    "def nested_loop(l):\n",
    "    s = size_of_a_list(l)nested_loop(list_)\n",
    "    for i in range(s):\n",
    "        print(\"We are still in step: \", i,\" of the first loop\")\n",
    "        for j in range(s):\n",
    "            print(\"We are in step: \", j,\" of the second loop\")\n",
    "\n",
    "nested_loop(list_)\n",
    "\n",
    "\n"
   ]
  },
  {
   "cell_type": "markdown",
   "metadata": {},
   "source": [
    "A for each loop is a loop where instead of working with indices you ask the list or object to give you the pieces one by one"
   ]
  },
  {
   "cell_type": "code",
   "execution_count": 17,
   "metadata": {},
   "outputs": [
    {
     "name": "stdout",
     "output_type": "stream",
     "text": [
      "0\n",
      "1\n",
      "2\n",
      "3\n",
      "4\n",
      "5\n",
      "6\n",
      "7\n",
      "8\n",
      "9\n"
     ]
    }
   ],
   "source": [
    "def for_each(l):\n",
    "\n",
    "    for element in l:\n",
    "        print(element)\n",
    "for_each(list_)\n"
   ]
  },
  {
   "cell_type": "markdown",
   "metadata": {},
   "source": [
    "String are list of 'chars' and can be accessed as such"
   ]
  },
  {
   "cell_type": "code",
   "execution_count": 18,
   "metadata": {},
   "outputs": [
    {
     "data": {
      "text/plain": [
       "42"
      ]
     },
     "execution_count": 18,
     "metadata": {},
     "output_type": "execute_result"
    }
   ],
   "source": [
    "string = \"Hello my name is Jon and I hope this helps\"\n",
    "size_of_a_list(string)"
   ]
  },
  {
   "cell_type": "code",
   "execution_count": 22,
   "metadata": {},
   "outputs": [
    {
     "name": "stdout",
     "output_type": "stream",
     "text": [
      "0\n",
      "1\n",
      "2\n",
      "3\n",
      "4\n",
      "5\n",
      "6\n",
      "7\n",
      "8\n",
      "9\n",
      "10\n",
      "11\n",
      "12\n",
      "13\n",
      "14\n",
      "15\n",
      "16\n",
      "17\n",
      "18\n",
      "19\n",
      "20\n",
      "21\n",
      "22\n",
      "23\n",
      "24\n",
      "25\n",
      "26\n",
      "27\n",
      "28\n",
      "29\n",
      "30\n",
      "31\n",
      "32\n",
      "33\n",
      "34\n",
      "35\n",
      "36\n",
      "37\n",
      "38\n",
      "39\n",
      "40\n",
      "41\n"
     ]
    }
   ],
   "source": [
    "simple_loop(string)"
   ]
  },
  {
   "cell_type": "code",
   "execution_count": 20,
   "metadata": {
    "tags": []
   },
   "outputs": [
    {
     "name": "stdout",
     "output_type": "stream",
     "text": [
      "We are still in step:  0  of the first loop\n",
      "We are in step:  0  of the second loop\n",
      "We are in step:  1  of the second loop\n",
      "We are in step:  2  of the second loop\n",
      "We are in step:  3  of the second loop\n",
      "We are in step:  4  of the second loop\n",
      "We are in step:  5  of the second loop\n",
      "We are in step:  6  of the second loop\n",
      "We are in step:  7  of the second loop\n",
      "We are in step:  8  of the second loop\n",
      "We are in step:  9  of the second loop\n",
      "We are still in step:  1  of the first loop\n",
      "We are in step:  0  of the second loop\n",
      "We are in step:  1  of the second loop\n",
      "We are in step:  2  of the second loop\n",
      "We are in step:  3  of the second loop\n",
      "We are in step:  4  of the second loop\n",
      "We are in step:  5  of the second loop\n",
      "We are in step:  6  of the second loop\n",
      "We are in step:  7  of the second loop\n",
      "We are in step:  8  of the second loop\n",
      "We are in step:  9  of the second loop\n",
      "We are still in step:  2  of the first loop\n",
      "We are in step:  0  of the second loop\n",
      "We are in step:  1  of the second loop\n",
      "We are in step:  2  of the second loop\n",
      "We are in step:  3  of the second loop\n",
      "We are in step:  4  of the second loop\n",
      "We are in step:  5  of the second loop\n",
      "We are in step:  6  of the second loop\n",
      "We are in step:  7  of the second loop\n",
      "We are in step:  8  of the second loop\n",
      "We are in step:  9  of the second loop\n",
      "We are still in step:  3  of the first loop\n",
      "We are in step:  0  of the second loop\n",
      "We are in step:  1  of the second loop\n",
      "We are in step:  2  of the second loop\n",
      "We are in step:  3  of the second loop\n",
      "We are in step:  4  of the second loop\n",
      "We are in step:  5  of the second loop\n",
      "We are in step:  6  of the second loop\n",
      "We are in step:  7  of the second loop\n",
      "We are in step:  8  of the second loop\n",
      "We are in step:  9  of the second loop\n",
      "We are still in step:  4  of the first loop\n",
      "We are in step:  0  of the second loop\n",
      "We are in step:  1  of the second loop\n",
      "We are in step:  2  of the second loop\n",
      "We are in step:  3  of the second loop\n",
      "We are in step:  4  of the second loop\n",
      "We are in step:  5  of the second loop\n",
      "We are in step:  6  of the second loop\n",
      "We are in step:  7  of the second loop\n",
      "We are in step:  8  of the second loop\n",
      "We are in step:  9  of the second loop\n",
      "We are still in step:  5  of the first loop\n",
      "We are in step:  0  of the second loop\n",
      "We are in step:  1  of the second loop\n",
      "We are in step:  2  of the second loop\n",
      "We are in step:  3  of the second loop\n",
      "We are in step:  4  of the second loop\n",
      "We are in step:  5  of the second loop\n",
      "We are in step:  6  of the second loop\n",
      "We are in step:  7  of the second loop\n",
      "We are in step:  8  of the second loop\n",
      "We are in step:  9  of the second loop\n",
      "We are still in step:  6  of the first loop\n",
      "We are in step:  0  of the second loop\n",
      "We are in step:  1  of the second loop\n",
      "We are in step:  2  of the second loop\n",
      "We are in step:  3  of the second loop\n",
      "We are in step:  4  of the second loop\n",
      "We are in step:  5  of the second loop\n",
      "We are in step:  6  of the second loop\n",
      "We are in step:  7  of the second loop\n",
      "We are in step:  8  of the second loop\n",
      "We are in step:  9  of the second loop\n",
      "We are still in step:  7  of the first loop\n",
      "We are in step:  0  of the second loop\n",
      "We are in step:  1  of the second loop\n",
      "We are in step:  2  of the second loop\n",
      "We are in step:  3  of the second loop\n",
      "We are in step:  4  of the second loop\n",
      "We are in step:  5  of the second loop\n",
      "We are in step:  6  of the second loop\n",
      "We are in step:  7  of the second loop\n",
      "We are in step:  8  of the second loop\n",
      "We are in step:  9  of the second loop\n",
      "We are still in step:  8  of the first loop\n",
      "We are in step:  0  of the second loop\n",
      "We are in step:  1  of the second loop\n",
      "We are in step:  2  of the second loop\n",
      "We are in step:  3  of the second loop\n",
      "We are in step:  4  of the second loop\n",
      "We are in step:  5  of the second loop\n",
      "We are in step:  6  of the second loop\n",
      "We are in step:  7  of the second loop\n",
      "We are in step:  8  of the second loop\n",
      "We are in step:  9  of the second loop\n",
      "We are still in step:  9  of the first loop\n",
      "We are in step:  0  of the second loop\n",
      "We are in step:  1  of the second loop\n",
      "We are in step:  2  of the second loop\n",
      "We are in step:  3  of the second loop\n",
      "We are in step:  4  of the second loop\n",
      "We are in step:  5  of the second loop\n",
      "We are in step:  6  of the second loop\n",
      "We are in step:  7  of the second loop\n",
      "We are in step:  8  of the second loop\n",
      "We are in step:  9  of the second loop\n"
     ]
    }
   ],
   "source": [
    "nested_loop(string[:10])"
   ]
  },
  {
   "cell_type": "code",
   "execution_count": 21,
   "metadata": {},
   "outputs": [
    {
     "name": "stdout",
     "output_type": "stream",
     "text": [
      "H\n",
      "e\n",
      "l\n",
      "l\n",
      "o\n",
      " \n",
      "m\n",
      "y\n",
      " \n",
      "n\n",
      "a\n",
      "m\n",
      "e\n",
      " \n",
      "i\n",
      "s\n",
      " \n",
      "J\n",
      "o\n",
      "n\n",
      " \n",
      "a\n",
      "n\n",
      "d\n",
      " \n",
      "I\n",
      " \n",
      "h\n",
      "o\n",
      "p\n",
      "e\n",
      " \n",
      "t\n",
      "h\n",
      "i\n",
      "s\n",
      " \n",
      "h\n",
      "e\n",
      "l\n",
      "p\n",
      "s\n"
     ]
    }
   ],
   "source": [
    "for_each(string)"
   ]
  }
 ],
 "metadata": {
  "kernelspec": {
   "display_name": "Python 3",
   "language": "python",
   "name": "python3"
  },
  "language_info": {
   "codemirror_mode": {
    "name": "ipython",
    "version": 3
   },
   "file_extension": ".py",
   "mimetype": "text/x-python",
   "name": "python",
   "nbconvert_exporter": "python",
   "pygments_lexer": "ipython3",
   "version": "3.7.9"
  }
 },
 "nbformat": 4,
 "nbformat_minor": 2
}
